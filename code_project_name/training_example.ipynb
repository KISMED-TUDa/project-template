{
 "cells": [
  {
   "cell_type": "markdown",
   "metadata": {},
   "source": [
    "# MNIST Example"
   ]
  },
  {
   "cell_type": "markdown",
   "metadata": {},
   "source": [
    "## Training"
   ]
  },
  {
   "cell_type": "code",
   "execution_count": 3,
   "metadata": {},
   "outputs": [],
   "source": [
    "import torch\n",
    "import torch.nn.functional as F\n",
    "from torchvision.datasets import MNIST\n",
    "from torch.utils.data import DataLoader\n",
    "import torchvision.transforms.v2 as v2\n",
    "from torchvision.models import resnet18\n",
    "from trainer import GenericTrainer\n",
    "from metrics import accuracy\n",
    "\n",
    "# To open the tensorboard summary run this command in your cmd inside your conda environment : \n",
    "# tensorboard --logdir=xxxx --port=xxxx (Fill in the xxxx, port can be 8080 for example)\n",
    "\n",
    "# Some parameters to be set for training\n",
    "device = torch.device(\"cuda\") if torch.cuda.is_available() else torch.device(\"cpu\")\n",
    "batch_size = 64\n",
    "epochs = 10\n",
    "max_grad_norm = 10\n",
    "\n",
    "# Setup transformations for the inputs and labels\n",
    "transform = v2.Compose([v2.PILToTensor(), v2.ToDtype(torch.float32), v2.Normalize(mean=(33.3285,), std=(78.5655,))]) # MNIST training dataset mean and std\n",
    "target_transform = lambda x:F.one_hot(torch.tensor(x), num_classes=10).float()\n",
    "\n",
    "# Setup the dataset and dataloaders\n",
    "training_dataset = MNIST(root=r\"../data/raw\", train=True, download=True, transform=transform, target_transform=target_transform)\n",
    "training_loader = DataLoader(dataset=training_dataset, batch_size=batch_size, shuffle=True, pin_memory=True)\n",
    "\n",
    "val_dataset = MNIST(root=r\"../data/raw\", train=False, download=True, transform=transform, target_transform=target_transform)\n",
    "val_loader = DataLoader(dataset=val_dataset, batch_size=batch_size, shuffle=True, pin_memory=True)"
   ]
  },
  {
   "cell_type": "code",
   "execution_count": null,
   "metadata": {},
   "outputs": [],
   "source": [
    "from models import MIMOModel\n",
    "# Setup the model and change its input channels from 3 (RGB) to 1 (Grayscale)\n",
    "# Typical resnet18\n",
    "model = resnet18(num_classes=10)\n",
    "model.conv1 = torch.nn.Conv2d(1, 64, kernel_size=7, stride=2, padding=3, bias=False) # There is unfortunately no external way to change the input channel size\n",
    "model = model.to(device)\n",
    "\n",
    "# MIMO resnet18\n",
    "model = resnet18(num_classes=10)\n",
    "model.conv1 = torch.nn.Conv2d(1, 64, kernel_size=7, stride=2, padding=3, bias=False) # There is unfortunately no external way to change the input channel size\n",
    "model = model.to(device)\n",
    "\n",
    "# Setup optimizer and scheduler\n",
    "optimizer = torch.optim.SGD(params=model.parameters(), lr=1e-2, momentum=0.9)\n",
    "scheduler = torch.optim.lr_scheduler.ConstantLR(optimizer=optimizer, factor=1., total_iters=epochs)\n",
    "\n",
    "# Setup loss and metrics\n",
    "loss = torch.nn.CrossEntropyLoss()\n",
    "metrics = {\"Accuracy\" : accuracy}\n",
    "\n",
    "# Setup the trainer and train\n",
    "trainer = GenericTrainer(device=device, model=model, loss=loss, metrics=metrics, optimizer=optimizer, scheduler=scheduler, \n",
    "                        max_grad_norm=max_grad_norm, fp16_precision=True, log_every_n_steps=25, save_every_n_epochs=5, \n",
    "                        epochs=epochs, seed=42, verbose=True)\n",
    "trainer.train(training_loader, val_loader)"
   ]
  },
  {
   "cell_type": "markdown",
   "metadata": {},
   "source": [
    "## Visualizing the results"
   ]
  },
  {
   "cell_type": "code",
   "execution_count": 4,
   "metadata": {},
   "outputs": [
    {
     "name": "stderr",
     "output_type": "stream",
     "text": [
      "C:\\Users\\haida\\AppData\\Local\\Temp\\ipykernel_23984\\3188810459.py:6: FutureWarning: You are using `torch.load` with `weights_only=False` (the current default value), which uses the default pickle module implicitly. It is possible to construct malicious pickle data which will execute arbitrary code during unpickling (See https://github.com/pytorch/pytorch/blob/main/SECURITY.md#untrusted-models for more details). In a future release, the default value for `weights_only` will be flipped to `True`. This limits the functions that could be executed during unpickling. Arbitrary objects will no longer be allowed to be loaded via this mode unless they are explicitly allowlisted by the user via `torch.serialization.add_safe_globals`. We recommend you start setting `weights_only=True` for any use case where you don't have full control of the loaded file. Please open an issue on GitHub for any issues related to this experimental feature.\n",
      "  checkpoint = torch.load(path_to_model) # Load the checkpoint\n"
     ]
    }
   ],
   "source": [
    "import torch\n",
    "from torchvision.models import resnet18\n",
    "\n",
    "device = torch.device(\"cuda\") if torch.cuda.is_available() else torch.device(\"cpu\")\n",
    "path_to_model = r\"runs\\Nov21_09-21-56_Work_PC_Jad\\checkpoint_00010.pt\" # Example path, replace with your own\n",
    "checkpoint = torch.load(path_to_model) # Load the checkpoint\n",
    "\n",
    "# Setup the model and change its input channels from 3 (RGB) to 1 (Grayscale)\n",
    "model = resnet18(num_classes=10)\n",
    "model.conv1 = torch.nn.Conv2d(1, 64, kernel_size=7, stride=2, padding=3, bias=False) # There is unfortunately no external way to change the input channel size\n",
    "model.load_state_dict(checkpoint[\"state_dict\"]) # Load the model weights into the newly initialized model\n",
    "model = model.to(device)\n",
    "model = model.eval()"
   ]
  },
  {
   "cell_type": "code",
   "execution_count": 6,
   "metadata": {},
   "outputs": [
    {
     "data": {
      "image/png": "[encoded data removed]",
      "text/plain": [
       "<Figure size 640x480 with 1 Axes>"
      ]
     },
     "metadata": {},
     "output_type": "display_data"
    },
    {
     "name": "stdout",
     "output_type": "stream",
     "text": [
      "Label : tensor([0., 0., 0., 0., 0., 0., 0., 0., 1., 0.]), argmax: 8\n",
      "Prediction : [7.51e-14 6.35e-13 1.40e-13 7.25e-12 2.24e-12 1.09e-09 2.14e-11 1.87e-13\n",
      " 1.00e+00 6.76e-13], argmax: 8\n"
     ]
    }
   ],
   "source": [
    "import matplotlib.pyplot as plt\n",
    "import numpy as np\n",
    "\n",
    "np.set_printoptions(precision=2)\n",
    "\n",
    "idx = 125\n",
    "image, label = training_dataset[idx]\n",
    "with torch.no_grad():\n",
    "    prediction = torch.softmax(model(image.to(device).unsqueeze(0)), dim=-1).cpu().numpy()\n",
    "\n",
    "plt.imshow(image.numpy().squeeze())\n",
    "plt.show()\n",
    "print(f\"Label : {label}, argmax: {label.argmax(dim=-1)}\\nPrediction : {prediction.flatten()}, argmax: {prediction.argmax(axis=-1)[0]}\")"
   ]
  }
 ],
 "metadata": {
  "kernelspec": {
   "display_name": "raman_unmixing",
   "language": "python",
   "name": "python3"
  },
  "language_info": {
   "codemirror_mode": {
    "name": "ipython",
    "version": 3
   },
   "file_extension": ".py",
   "mimetype": "text/x-python",
   "name": "python",
   "nbconvert_exporter": "python",
   "pygments_lexer": "ipython3",
   "version": "3.10.13"
  }
 },
 "nbformat": 4,
 "nbformat_minor": 2
}
